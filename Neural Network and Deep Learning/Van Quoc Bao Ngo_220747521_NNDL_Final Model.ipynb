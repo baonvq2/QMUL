{
 "cells": [
  {
   "cell_type": "code",
   "execution_count": 1,
   "metadata": {
    "id": "Jppd--hOUjid"
   },
   "outputs": [],
   "source": [
    "# Import necessary packages\n",
    "import torch\n",
    "from torch import nn\n",
    "from IPython import display\n",
    "import os\n",
    "import torch.nn.functional as F\n",
    "os.environ[\"KMP_DUPLICATE_LIB_OK\"]=\"TRUE\"\n",
    "\n",
    "import torchvision\n",
    "import torchvision.transforms as transforms\n",
    "import matplotlib.pyplot as plt\n",
    "%matplotlib inline\n",
    "import numpy as np\n",
    "import time\n",
    "import datetime"
   ]
  },
  {
   "cell_type": "markdown",
   "metadata": {},
   "source": [
    "# 1. Read the CIFAR10 dataset and create Data Loader"
   ]
  },
  {
   "cell_type": "code",
   "execution_count": 2,
   "metadata": {
    "colab": {
     "base_uri": "https://localhost:8080/"
    },
    "id": "D_H6tKZPjoLW",
    "outputId": "cc2a5a87-3c5a-437d-aa09-794c7dab5734"
   },
   "outputs": [
    {
     "name": "stdout",
     "output_type": "stream",
     "text": [
      "Files already downloaded and verified\n",
      "Files already downloaded and verified\n",
      "Files already downloaded and verified\n"
     ]
    }
   ],
   "source": [
    "# Define data transformation to be used for the dataset\n",
    "## Augmentation transformation applied to training set\n",
    "augmentation = transforms.Compose(\n",
    "    [transforms.RandomHorizontalFlip(p=0.5), # Random flip in horizontal way\n",
    "     transforms.RandomCrop(32, padding=4), # Random crop\n",
    "     transforms.RandomRotation(10), # Random rotation\n",
    "     transforms.ToTensor(), # Convert data to tensor\n",
    "     transforms.Normalize((0.5, 0.5, 0.5), (0.5, 0.5, 0.5))]) # Normalize the data\n",
    "## Transformation applied to validation and test set\n",
    "transform = transforms.Compose(\n",
    "    [transforms.ToTensor(), # Convert data to tensor\n",
    "     transforms.Normalize((0.5, 0.5, 0.5), (0.5, 0.5, 0.5))]) # Normalize the data\n",
    "\n",
    "# Define batch_size\n",
    "batch_size = 128\n",
    "\n",
    "# Load/Read training and validation data\n",
    "## 1 set with normal transform and another set with augmentation\n",
    "trainset1 = torchvision.datasets.CIFAR10(root='./data', train=True, download=True, transform=transform)\n",
    "trainset2 = torchvision.datasets.CIFAR10(root='./data', train=True, download=True, transform=augmentation)\n",
    "## Split the data randomly into training and validation (fixed the seed for easy performance comparison)\n",
    "trainset1, valset1 = torch.utils.data.random_split(trainset1, [40000, 10000], generator=torch.Generator().manual_seed(306))\n",
    "trainset2, valset2 = torch.utils.data.random_split(trainset2, [40000, 10000], generator=torch.Generator().manual_seed(306))\n",
    "\n",
    "# Create DataLoader training and validation data\n",
    "## For training set, create DataLoader the combined trainset (trainset1 + transet2)\n",
    "### Combine 2 training sets together (1 normal + 1 augmentation)\n",
    "trainset = torch.utils.data.ConcatDataset((trainset1, trainset2))\n",
    "trainloader = torch.utils.data.DataLoader(trainset, batch_size=batch_size, shuffle=True, num_workers=2)\n",
    "## For validation set, create DataLoader the valset that is transformed without augmentation (valset1)\n",
    "valloader = torch.utils.data.DataLoader(valset1, batch_size=batch_size, shuffle=True, num_workers=2)\n",
    "\n",
    "\n",
    "# Load/Read test data\n",
    "testset = torchvision.datasets.CIFAR10(root='./data', train=False, download=True, transform=transform)\n",
    "# Create DataLoader test data\n",
    "testloader = torch.utils.data.DataLoader(testset, batch_size=batch_size, shuffle=False, num_workers=2)"
   ]
  },
  {
   "cell_type": "markdown",
   "metadata": {},
   "source": [
    "Check the size/len of the dataset"
   ]
  },
  {
   "cell_type": "code",
   "execution_count": 3,
   "metadata": {},
   "outputs": [
    {
     "name": "stdout",
     "output_type": "stream",
     "text": [
      "The size of training data: 80000\n",
      "The size of validation data: 10000\n",
      "The size of test data: 10000\n"
     ]
    }
   ],
   "source": [
    "print('The size of training data:', len(trainset))\n",
    "print('The size of validation data:', len(valset1))\n",
    "print('The size of test data:', len(testset))"
   ]
  },
  {
   "cell_type": "markdown",
   "metadata": {},
   "source": [
    "Get some random training images"
   ]
  },
  {
   "cell_type": "code",
   "execution_count": 4,
   "metadata": {},
   "outputs": [
    {
     "data": {
      "image/png": "[encoded data removed]",
      "text/plain": [
       "<Figure size 640x480 with 1 Axes>"
      ]
     },
     "metadata": {},
     "output_type": "display_data"
    },
    {
     "name": "stdout",
     "output_type": "stream",
     "text": [
      "ship  truck plane dog  \n"
     ]
    }
   ],
   "source": [
    "def imshow(img):\n",
    "    img = img / 2 + 0.5\n",
    "    npimg = img.numpy()\n",
    "    plt.imshow(np.transpose(npimg, (1, 2, 0)))\n",
    "    plt.show()\n",
    "dataiter = iter(trainloader)\n",
    "images, labels = next(dataiter)\n",
    "\n",
    "# show images\n",
    "imshow(torchvision.utils.make_grid(images[:4]))\n",
    "\n",
    "# print labels\n",
    "classes = ('plane', 'car', 'bird', 'cat', 'deer', 'dog', 'frog', 'horse', 'ship', 'truck')\n",
    "print(' '.join(f'{classes[labels[j]]:5s}' for j in range(4)))"
   ]
  },
  {
   "cell_type": "markdown",
   "metadata": {},
   "source": [
    "# 2. Create the model"
   ]
  },
  {
   "cell_type": "markdown",
   "metadata": {},
   "source": [
    "## Define a function to calculate the weight to combine k convolutional outputs"
   ]
  },
  {
   "cell_type": "code",
   "execution_count": 5,
   "metadata": {},
   "outputs": [],
   "source": [
    "# Define the weight 'a' to combine different outputs generated by convolutional layers of a block\n",
    "def define_a(x, num_convs):\n",
    "    avgpool = nn.AdaptiveAvgPool2d(7) # Spatial Average Pool\n",
    "    spatial_avg = avgpool(x)\n",
    "    spatial_avg = spatial_avg.view(spatial_avg.size(0), -1) # Flatten\n",
    "    \n",
    "    # MLP layer\n",
    "    mlp_weights = nn.Sequential(nn.Linear(spatial_avg.size(1), 64),\n",
    "                                        nn.Linear(64,32),\n",
    "                                        nn.Linear(32, num_convs),\n",
    "                               ).to(device)\n",
    "    # Generate the weight 'a' with Sigmoid() activation, MLP and Spatial Average Pool\n",
    "    a = nn.Sigmoid()(mlp_weights(spatial_avg)) # activation g = Sigmoid()\n",
    "    \n",
    "    return a"
   ]
  },
  {
   "cell_type": "markdown",
   "metadata": {},
   "source": [
    "## Construct a block architecture"
   ]
  },
  {
   "cell_type": "code",
   "execution_count": 6,
   "metadata": {
    "id": "tdfQXAqqVAoE"
   },
   "outputs": [],
   "source": [
    "# Define a block architecture\n",
    "class Block(nn.Module):\n",
    "    def __init__(self, num_convs, input_channels, output_channels):\n",
    "        super(Block, self).__init__()\n",
    "        self.num_convs = num_convs # Set variable: number of convolutional layers\n",
    "        self.input_channels = input_channels # Set variable: number of input channels\n",
    "        self.output_channels = output_channels # Set variable: number of output channels\n",
    "        \n",
    "        ## Set up each convolutional layers, together with Batch Normalization and ReLU activation function\n",
    "        for i in range(num_convs):\n",
    "            ### Convolutional layer\n",
    "            self.add_module('conv{0}'.format(i), nn.Conv2d(input_channels, output_channels, kernel_size=3, padding = 1))\n",
    "            ### Batch Normalization\n",
    "            self.add_module('bn{0}'.format(i), nn.BatchNorm2d(output_channels))\n",
    "            ### Activation function: ReLU()\n",
    "            self.add_module('relu{0}'.format(i), nn.ReLU())\n",
    "        \n",
    "        ## Max Pooling layer to reduce spatial dimension of the data\n",
    "        self.max_pool = nn.MaxPool2d(kernel_size=2, stride=2)\n",
    "        \n",
    "    def forward(self, x):\n",
    "        a = define_a(x, self.num_convs) # Generate weights to combine the convolutional outputs\n",
    "        a = torch.split(a, 1, dim=1) # Split the weights into different weight tensors to be used separately with each convolutional output\n",
    "        \n",
    "        out = [] # Store outputs generated from parallel convolutional layers\n",
    "        for i in range(self.num_convs):\n",
    "            conv = self._modules['conv{0}'.format(i)](x) # Send input to convolutional layer in a parallel way\n",
    "            conv = self._modules['bn{0}'.format(i)](conv) # Apply batch normalization\n",
    "            conv = self._modules['relu{0}'.format(i)](conv) # Apply ReLU() activation function\n",
    "            convo_output = conv*a[i].unsqueeze(-1).unsqueeze(-1) # Multily the convolutional output with a weight tensor\n",
    "            out.append(convo_output)\n",
    "        \n",
    "        out = self.max_pool(sum(out)) # Sum the outputs obtained from the loop above and sent it to Max Pooling layer\n",
    "        \n",
    "        return out"
   ]
  },
  {
   "cell_type": "markdown",
   "metadata": {},
   "source": [
    "## Construct a backbone architecture"
   ]
  },
  {
   "cell_type": "code",
   "execution_count": 7,
   "metadata": {},
   "outputs": [],
   "source": [
    "# Define a backbone architecture\n",
    "class Backbone(nn.Module):\n",
    "    def __init__(self, conv_arch, dropout_rate):\n",
    "        super(Backbone, self).__init__()\n",
    "        in_channels = 3 # Set variable: number of input channels for the FIRST block\n",
    "        self.conv_arch = conv_arch # Set variable: a tuple of (number of convolutional layers, number of output channels)\n",
    "        self.dropout_rate = dropout_rate # Set variable: dropout rate\n",
    "        \n",
    "        ## Set up the backbone with sequential blocks\n",
    "        for i, (num_convs, out_channels) in enumerate(conv_arch):\n",
    "            self.add_module('Block{0}'.format(i), Block(num_convs, in_channels, out_channels)) # Block\n",
    "            in_channels = out_channels # Set up a dynamic flow among blocks: input of the current block = output of the previous block\n",
    "        \n",
    "        self.mean_feature = nn.AdaptiveAvgPool2d(1) # Define Spatial Avg Pool for the output of the LAST block\n",
    "        \n",
    "        ## Define the classifier (3 Fully Connected layers + ReLU() + Dropout layer)\n",
    "        self.last = nn.Sequential(nn.Flatten(),\n",
    "                                 nn.Linear(out_channels, 128),\n",
    "                                 nn.ReLU(),\n",
    "                                 nn.Dropout(dropout_rate),\n",
    "                                 nn.Linear(128, 128),\n",
    "                                 nn.ReLU(),\n",
    "                                 nn.Dropout(dropout_rate),\n",
    "                                 nn.Linear(128, 10))\n",
    "    \n",
    "    def forward(self, x):\n",
    "        out = x\n",
    "        for i in range(len(self.conv_arch)):\n",
    "            out = self._modules['Block{0}'.format(i)](out) # Send input to each block\n",
    "        out = self.mean_feature(out) # Apply Spatial Avg Pool to the output of the LAST block\n",
    "        out = self.last(out) # Apply the classifier\n",
    "        \n",
    "        return out"
   ]
  },
  {
   "cell_type": "markdown",
   "metadata": {},
   "source": [
    "## Define a function to initialize weights for layers within the backbone"
   ]
  },
  {
   "cell_type": "code",
   "execution_count": 8,
   "metadata": {},
   "outputs": [],
   "source": [
    "# Define a function to initialize the weight\n",
    "def init_weights(m):\n",
    "    if type(m) == nn.Linear or type(m) == nn.Conv2d: # by checking the type we can init different layers in different ways\n",
    "        torch.nn.init.xavier_normal_(m.weight)"
   ]
  },
  {
   "cell_type": "markdown",
   "metadata": {},
   "source": [
    "## Initialize the model"
   ]
  },
  {
   "cell_type": "code",
   "execution_count": 9,
   "metadata": {
    "colab": {
     "base_uri": "https://localhost:8080/"
    },
    "id": "erOewPGkVET8",
    "outputId": "8abc16e7-490b-4c61-fbb5-eebfcfd33c04"
   },
   "outputs": [
    {
     "data": {
      "text/plain": [
       "Backbone(\n",
       "  (Block0): Block(\n",
       "    (conv0): Conv2d(3, 64, kernel_size=(3, 3), stride=(1, 1), padding=(1, 1))\n",
       "    (bn0): BatchNorm2d(64, eps=1e-05, momentum=0.1, affine=True, track_running_stats=True)\n",
       "    (relu0): ReLU()\n",
       "    (conv1): Conv2d(3, 64, kernel_size=(3, 3), stride=(1, 1), padding=(1, 1))\n",
       "    (bn1): BatchNorm2d(64, eps=1e-05, momentum=0.1, affine=True, track_running_stats=True)\n",
       "    (relu1): ReLU()\n",
       "    (max_pool): MaxPool2d(kernel_size=2, stride=2, padding=0, dilation=1, ceil_mode=False)\n",
       "  )\n",
       "  (Block1): Block(\n",
       "    (conv0): Conv2d(64, 128, kernel_size=(3, 3), stride=(1, 1), padding=(1, 1))\n",
       "    (bn0): BatchNorm2d(128, eps=1e-05, momentum=0.1, affine=True, track_running_stats=True)\n",
       "    (relu0): ReLU()\n",
       "    (conv1): Conv2d(64, 128, kernel_size=(3, 3), stride=(1, 1), padding=(1, 1))\n",
       "    (bn1): BatchNorm2d(128, eps=1e-05, momentum=0.1, affine=True, track_running_stats=True)\n",
       "    (relu1): ReLU()\n",
       "    (conv2): Conv2d(64, 128, kernel_size=(3, 3), stride=(1, 1), padding=(1, 1))\n",
       "    (bn2): BatchNorm2d(128, eps=1e-05, momentum=0.1, affine=True, track_running_stats=True)\n",
       "    (relu2): ReLU()\n",
       "    (max_pool): MaxPool2d(kernel_size=2, stride=2, padding=0, dilation=1, ceil_mode=False)\n",
       "  )\n",
       "  (Block2): Block(\n",
       "    (conv0): Conv2d(128, 256, kernel_size=(3, 3), stride=(1, 1), padding=(1, 1))\n",
       "    (bn0): BatchNorm2d(256, eps=1e-05, momentum=0.1, affine=True, track_running_stats=True)\n",
       "    (relu0): ReLU()\n",
       "    (conv1): Conv2d(128, 256, kernel_size=(3, 3), stride=(1, 1), padding=(1, 1))\n",
       "    (bn1): BatchNorm2d(256, eps=1e-05, momentum=0.1, affine=True, track_running_stats=True)\n",
       "    (relu1): ReLU()\n",
       "    (conv2): Conv2d(128, 256, kernel_size=(3, 3), stride=(1, 1), padding=(1, 1))\n",
       "    (bn2): BatchNorm2d(256, eps=1e-05, momentum=0.1, affine=True, track_running_stats=True)\n",
       "    (relu2): ReLU()\n",
       "    (conv3): Conv2d(128, 256, kernel_size=(3, 3), stride=(1, 1), padding=(1, 1))\n",
       "    (bn3): BatchNorm2d(256, eps=1e-05, momentum=0.1, affine=True, track_running_stats=True)\n",
       "    (relu3): ReLU()\n",
       "    (max_pool): MaxPool2d(kernel_size=2, stride=2, padding=0, dilation=1, ceil_mode=False)\n",
       "  )\n",
       "  (Block3): Block(\n",
       "    (conv0): Conv2d(256, 512, kernel_size=(3, 3), stride=(1, 1), padding=(1, 1))\n",
       "    (bn0): BatchNorm2d(512, eps=1e-05, momentum=0.1, affine=True, track_running_stats=True)\n",
       "    (relu0): ReLU()\n",
       "    (conv1): Conv2d(256, 512, kernel_size=(3, 3), stride=(1, 1), padding=(1, 1))\n",
       "    (bn1): BatchNorm2d(512, eps=1e-05, momentum=0.1, affine=True, track_running_stats=True)\n",
       "    (relu1): ReLU()\n",
       "    (conv2): Conv2d(256, 512, kernel_size=(3, 3), stride=(1, 1), padding=(1, 1))\n",
       "    (bn2): BatchNorm2d(512, eps=1e-05, momentum=0.1, affine=True, track_running_stats=True)\n",
       "    (relu2): ReLU()\n",
       "    (conv3): Conv2d(256, 512, kernel_size=(3, 3), stride=(1, 1), padding=(1, 1))\n",
       "    (bn3): BatchNorm2d(512, eps=1e-05, momentum=0.1, affine=True, track_running_stats=True)\n",
       "    (relu3): ReLU()\n",
       "    (conv4): Conv2d(256, 512, kernel_size=(3, 3), stride=(1, 1), padding=(1, 1))\n",
       "    (bn4): BatchNorm2d(512, eps=1e-05, momentum=0.1, affine=True, track_running_stats=True)\n",
       "    (relu4): ReLU()\n",
       "    (max_pool): MaxPool2d(kernel_size=2, stride=2, padding=0, dilation=1, ceil_mode=False)\n",
       "  )\n",
       "  (Block4): Block(\n",
       "    (conv0): Conv2d(512, 512, kernel_size=(3, 3), stride=(1, 1), padding=(1, 1))\n",
       "    (bn0): BatchNorm2d(512, eps=1e-05, momentum=0.1, affine=True, track_running_stats=True)\n",
       "    (relu0): ReLU()\n",
       "    (conv1): Conv2d(512, 512, kernel_size=(3, 3), stride=(1, 1), padding=(1, 1))\n",
       "    (bn1): BatchNorm2d(512, eps=1e-05, momentum=0.1, affine=True, track_running_stats=True)\n",
       "    (relu1): ReLU()\n",
       "    (conv2): Conv2d(512, 512, kernel_size=(3, 3), stride=(1, 1), padding=(1, 1))\n",
       "    (bn2): BatchNorm2d(512, eps=1e-05, momentum=0.1, affine=True, track_running_stats=True)\n",
       "    (relu2): ReLU()\n",
       "    (conv3): Conv2d(512, 512, kernel_size=(3, 3), stride=(1, 1), padding=(1, 1))\n",
       "    (bn3): BatchNorm2d(512, eps=1e-05, momentum=0.1, affine=True, track_running_stats=True)\n",
       "    (relu3): ReLU()\n",
       "    (conv4): Conv2d(512, 512, kernel_size=(3, 3), stride=(1, 1), padding=(1, 1))\n",
       "    (bn4): BatchNorm2d(512, eps=1e-05, momentum=0.1, affine=True, track_running_stats=True)\n",
       "    (relu4): ReLU()\n",
       "    (max_pool): MaxPool2d(kernel_size=2, stride=2, padding=0, dilation=1, ceil_mode=False)\n",
       "  )\n",
       "  (mean_feature): AdaptiveAvgPool2d(output_size=1)\n",
       "  (last): Sequential(\n",
       "    (0): Flatten(start_dim=1, end_dim=-1)\n",
       "    (1): Linear(in_features=512, out_features=128, bias=True)\n",
       "    (2): ReLU()\n",
       "    (3): Dropout(p=0.3, inplace=False)\n",
       "    (4): Linear(in_features=128, out_features=128, bias=True)\n",
       "    (5): ReLU()\n",
       "    (6): Dropout(p=0.3, inplace=False)\n",
       "    (7): Linear(in_features=128, out_features=10, bias=True)\n",
       "  )\n",
       ")"
      ]
     },
     "execution_count": 9,
     "metadata": {},
     "output_type": "execute_result"
    }
   ],
   "source": [
    "# Set up GPU resource\n",
    "device = torch.device(\"cuda\" if torch.cuda.is_available() else \"cpu\")\n",
    "torch.set_grad_enabled(True) # Enable GPU\n",
    "torch.cuda.empty_cache() # Clear cuda cache (if any)\n",
    "\n",
    "# Implement CNN\n",
    "## Define number of blocks, number of convolutional within a block and number of output channels within a block\n",
    "conv_arch = ((2, 64), (3, 128), (4, 256), (5, 512), (5, 512)) # 5 blocks: (num_conv, out_channels)\n",
    "## Model initialization\n",
    "model = Backbone(conv_arch, dropout_rate=0.3).to(device)\n",
    "## Weights initialization\n",
    "model.apply(init_weights)"
   ]
  },
  {
   "cell_type": "markdown",
   "metadata": {},
   "source": [
    "# 3. Create the loss and optimizer"
   ]
  },
  {
   "cell_type": "markdown",
   "metadata": {},
   "source": [
    "## Loss function"
   ]
  },
  {
   "cell_type": "markdown",
   "metadata": {},
   "source": [
    "Use Cross Entropy Loss"
   ]
  },
  {
   "cell_type": "code",
   "execution_count": 10,
   "metadata": {
    "id": "Fc3d22RQVKmc"
   },
   "outputs": [],
   "source": [
    "loss = nn.CrossEntropyLoss()"
   ]
  },
  {
   "cell_type": "markdown",
   "metadata": {},
   "source": [
    "## Optimizer"
   ]
  },
  {
   "cell_type": "markdown",
   "metadata": {},
   "source": [
    "Use Stochastic Gradient Descent optimizer (SGD)"
   ]
  },
  {
   "cell_type": "code",
   "execution_count": 11,
   "metadata": {},
   "outputs": [],
   "source": [
    "lr = 0.1 #learning rate\n",
    "wd=0.0001 #weight decay (regularization)\n",
    "optimizer = torch.optim.SGD(model.parameters(), lr=lr, weight_decay=wd)"
   ]
  },
  {
   "cell_type": "markdown",
   "metadata": {},
   "source": [
    "# 4. Train the model"
   ]
  },
  {
   "cell_type": "markdown",
   "metadata": {},
   "source": [
    "## Define some necessary function used in training the model and evaluating performance"
   ]
  },
  {
   "cell_type": "markdown",
   "metadata": {},
   "source": [
    "The script is taken from the 'my_utils' material"
   ]
  },
  {
   "cell_type": "code",
   "execution_count": 12,
   "metadata": {
    "id": "kQ8sGwhEU9Ys"
   },
   "outputs": [],
   "source": [
    "def accuracy(y_hat, y):  #y_hat is a matrix; 2nd dimension stores prediction scores for each class.\n",
    "    \"\"\"Compute the number of correct predictions.\"\"\"\n",
    "    if len(y_hat.shape) > 1 and y_hat.shape[1] > 1:\n",
    "        y_hat = y_hat.argmax(axis=1) # Predicted class is the index of max score         \n",
    "    cmp = (y_hat.type(y.dtype) == y)  # because`==` is sensitive to data types\n",
    "    return float(torch.sum(cmp)) # Taking the sum yields the number of correct predictions.\n",
    "\n",
    "class Accumulator:  \n",
    "    \"\"\"For accumulating sums over `n` variables.\"\"\"\n",
    "    def __init__(self, n):\n",
    "        self.data = [0.0] * n # [0, 0, ..., 0]\n",
    "    def add(self, *args):\n",
    "        self.data = [a + float(b) for a, b in zip(self.data, args)]\n",
    "    def reset(self):\n",
    "        self.data = [0.0] * len(self.data)\n",
    "    def __getitem__(self, idx):\n",
    "        return self.data[idx]\n",
    "\n",
    "def evaluate_accuracy(net, data_iter): \n",
    "    \"\"\"Compute the accuracy for a model on a dataset.\"\"\"\n",
    "    metric = Accumulator(2)  # No. of correct predictions, no. of predictions\n",
    "    for _, (X, y) in enumerate(data_iter):\n",
    "        X, y = X.to(device), y.to(device)\n",
    "        metric.add(accuracy(net(X), y), y.numel())\n",
    "    # print(metric[0] / metric[1])\n",
    "    return metric[0] / metric[1]"
   ]
  },
  {
   "cell_type": "markdown",
   "metadata": {},
   "source": [
    "## Training script"
   ]
  },
  {
   "cell_type": "markdown",
   "metadata": {},
   "source": [
    "The script is inspired from the 'my_utils' material"
   ]
  },
  {
   "cell_type": "code",
   "execution_count": 13,
   "metadata": {},
   "outputs": [],
   "source": [
    "# Train one epoch\n",
    "def train_epoch_ch3(net, train_iter, loss, optimizer, batch_size=256, num_outputs=10):  \n",
    "    # Set the model to training mode\n",
    "    if isinstance(net, torch.nn.Module):\n",
    "        net.train()\n",
    "        \n",
    "    # Sum of training loss, sum of training accuracy, no. of examples\n",
    "    metric = Accumulator(3)\n",
    "    for X, y in train_iter:\n",
    "        ## Compute gradients and update parameters\n",
    "        X, y = X.to(device), y.to(device) # Set up to use GPU when training data\n",
    "        y_hat = net(X) # Apply forward function of the backbone to the input\n",
    "        l = loss(y_hat, y) # Apply loss function\n",
    "        optimizer.zero_grad() # Set the gradients to zero\n",
    "        l.backward() # back propagation\n",
    "        optimizer.step()\n",
    "        metric.add(float(l) * len(y), accuracy(y_hat, y), y.size().numel()) # Add up the loss and accuracy, train label size\n",
    "    \n",
    "    return metric[0] / metric[2], metric[1] / metric[2] # Return training loss (avg) and training accuracy (avg)\n",
    "\n",
    "# Timer function to calculate the total time spent for training\n",
    "def epoch_time(start_time, end_time):\n",
    "    elapsed_time = end_time - start_time\n",
    "    elapsed_mins = int(elapsed_time / 60)\n",
    "    elapsed_secs = int(elapsed_time - (elapsed_mins * 60))\n",
    "    return elapsed_mins, elapsed_secs\n",
    "\n",
    "# Train the whole model\n",
    "def train_ch3(net, train_iter, test_iter, loss, num_epochs, optimizer):  \n",
    "    loss_result = []\n",
    "    train_acc_result = []\n",
    "    test_acc_result = []\n",
    "    \n",
    "    ## Train the model by looping each epoch\n",
    "    for epoch in range(num_epochs):\n",
    "        start_time = time.time() # Set start time for timer when starting training the epoch\n",
    "        \n",
    "        train_metrics = train_epoch_ch3(net, train_iter, loss, optimizer) # Train the epoch\n",
    "        test_acc = evaluate_accuracy(net, test_iter) # Calculate accuracy on test or validation set when done training the epoch\n",
    "        \n",
    "        end_time = time.time() # Set start time for timer when finishing training the epoch\n",
    "        epoch_mins, epoch_secs = epoch_time(start_time, end_time) # Calculate total time to train 1 epoch\n",
    "        ct = datetime.datetime.now()\n",
    "        \n",
    "        loss_result.append(train_metrics[0])\n",
    "        train_acc_result.append(train_metrics[1])\n",
    "        test_acc_result.append(test_acc)\n",
    "        \n",
    "        ### Print out the result: epoch train time, training loss, training accuracy, test/validation accuracy\n",
    "        print('Epoch{0}: '.format(epoch),'| Epoch Time: ', epoch_mins,'m', epoch_secs, 's', '| Epoch Timestamp: ', ct)\n",
    "        print('\\tLoss= ',train_metrics[0], '| Train-Accuracy= ', train_metrics[1])\n",
    "        print('\\tValidation-Accuracy= ', test_acc)\n",
    "    \n",
    "    return loss_result, train_acc_result, test_acc_result"
   ]
  },
  {
   "cell_type": "markdown",
   "metadata": {},
   "source": [
    "## Start training"
   ]
  },
  {
   "cell_type": "code",
   "execution_count": 14,
   "metadata": {
    "scrolled": false
   },
   "outputs": [
    {
     "name": "stdout",
     "output_type": "stream",
     "text": [
      "Epoch0:  | Epoch Time:  0 m 55 s | Epoch Timestamp:  2023-04-13 06:54:54.634226\n",
      "\tLoss=  2.064892971038818 | Train-Accuracy=  0.1939375\n",
      "\tValidation-Accuracy=  0.2423\n",
      "Epoch1:  | Epoch Time:  0 m 52 s | Epoch Timestamp:  2023-04-13 06:55:47.484429\n",
      "\tLoss=  1.7607511707305907 | Train-Accuracy=  0.3050875\n",
      "\tValidation-Accuracy=  0.4034\n",
      "Epoch2:  | Epoch Time:  0 m 51 s | Epoch Timestamp:  2023-04-13 06:56:39.131918\n",
      "\tLoss=  1.4601235382080078 | Train-Accuracy=  0.442425\n",
      "\tValidation-Accuracy=  0.5063\n",
      "Epoch3:  | Epoch Time:  0 m 52 s | Epoch Timestamp:  2023-04-13 06:57:31.490636\n",
      "\tLoss=  1.2598432856559754 | Train-Accuracy=  0.5292125\n",
      "\tValidation-Accuracy=  0.5959\n",
      "Epoch4:  | Epoch Time:  0 m 51 s | Epoch Timestamp:  2023-04-13 06:58:23.318712\n",
      "\tLoss=  1.1001391764640809 | Train-Accuracy=  0.604575\n",
      "\tValidation-Accuracy=  0.6382\n",
      "Epoch5:  | Epoch Time:  0 m 51 s | Epoch Timestamp:  2023-04-13 06:59:15.163484\n",
      "\tLoss=  0.9760783306121826 | Train-Accuracy=  0.6612125\n",
      "\tValidation-Accuracy=  0.7014\n",
      "Epoch6:  | Epoch Time:  0 m 51 s | Epoch Timestamp:  2023-04-13 07:00:06.848591\n",
      "\tLoss=  0.8699391496658325 | Train-Accuracy=  0.7006625\n",
      "\tValidation-Accuracy=  0.7229\n",
      "Epoch7:  | Epoch Time:  0 m 51 s | Epoch Timestamp:  2023-04-13 07:00:58.195697\n",
      "\tLoss=  0.790064379119873 | Train-Accuracy=  0.7308125\n",
      "\tValidation-Accuracy=  0.7445\n",
      "Epoch8:  | Epoch Time:  0 m 51 s | Epoch Timestamp:  2023-04-13 07:01:49.724394\n",
      "\tLoss=  0.7248902592658997 | Train-Accuracy=  0.7565375\n",
      "\tValidation-Accuracy=  0.7626\n",
      "Epoch9:  | Epoch Time:  0 m 51 s | Epoch Timestamp:  2023-04-13 07:02:41.164930\n",
      "\tLoss=  0.666459684085846 | Train-Accuracy=  0.7763125\n",
      "\tValidation-Accuracy=  0.7808\n",
      "Epoch10:  | Epoch Time:  0 m 51 s | Epoch Timestamp:  2023-04-13 07:03:32.923289\n",
      "\tLoss=  0.6179502078056336 | Train-Accuracy=  0.7943375\n",
      "\tValidation-Accuracy=  0.785\n",
      "Epoch11:  | Epoch Time:  0 m 51 s | Epoch Timestamp:  2023-04-13 07:04:24.533017\n",
      "\tLoss=  0.5709649660110474 | Train-Accuracy=  0.8120125\n",
      "\tValidation-Accuracy=  0.8003\n",
      "Epoch12:  | Epoch Time:  0 m 51 s | Epoch Timestamp:  2023-04-13 07:05:15.900185\n",
      "\tLoss=  0.537677494430542 | Train-Accuracy=  0.823375\n",
      "\tValidation-Accuracy=  0.7997\n",
      "Epoch13:  | Epoch Time:  0 m 51 s | Epoch Timestamp:  2023-04-13 07:06:07.311532\n",
      "\tLoss=  0.5077961754322052 | Train-Accuracy=  0.835075\n",
      "\tValidation-Accuracy=  0.8059\n",
      "Epoch14:  | Epoch Time:  0 m 51 s | Epoch Timestamp:  2023-04-13 07:06:58.941216\n",
      "\tLoss=  0.4781034078121185 | Train-Accuracy=  0.84575\n",
      "\tValidation-Accuracy=  0.8142\n",
      "Epoch15:  | Epoch Time:  0 m 51 s | Epoch Timestamp:  2023-04-13 07:07:50.474240\n",
      "\tLoss=  0.4494723305463791 | Train-Accuracy=  0.8539625\n",
      "\tValidation-Accuracy=  0.8127\n",
      "Epoch16:  | Epoch Time:  0 m 51 s | Epoch Timestamp:  2023-04-13 07:08:42.032692\n",
      "\tLoss=  0.429624756193161 | Train-Accuracy=  0.860825\n",
      "\tValidation-Accuracy=  0.8258\n",
      "Epoch17:  | Epoch Time:  0 m 51 s | Epoch Timestamp:  2023-04-13 07:09:33.377852\n",
      "\tLoss=  0.40445766987800597 | Train-Accuracy=  0.8705375\n",
      "\tValidation-Accuracy=  0.8325\n",
      "Epoch18:  | Epoch Time:  0 m 51 s | Epoch Timestamp:  2023-04-13 07:10:24.786086\n",
      "\tLoss=  0.38051761779785154 | Train-Accuracy=  0.876975\n",
      "\tValidation-Accuracy=  0.828\n",
      "Epoch19:  | Epoch Time:  0 m 51 s | Epoch Timestamp:  2023-04-13 07:11:16.265178\n",
      "\tLoss=  0.368260528421402 | Train-Accuracy=  0.8813\n",
      "\tValidation-Accuracy=  0.8343\n",
      "Epoch20:  | Epoch Time:  0 m 51 s | Epoch Timestamp:  2023-04-13 07:12:07.781092\n",
      "\tLoss=  0.3512072192430496 | Train-Accuracy=  0.8866875\n",
      "\tValidation-Accuracy=  0.8381\n",
      "Epoch21:  | Epoch Time:  0 m 51 s | Epoch Timestamp:  2023-04-13 07:12:59.194167\n",
      "\tLoss=  0.33288485922813416 | Train-Accuracy=  0.8945125\n",
      "\tValidation-Accuracy=  0.8307\n",
      "Epoch22:  | Epoch Time:  0 m 51 s | Epoch Timestamp:  2023-04-13 07:13:50.689560\n",
      "\tLoss=  0.3240723531484604 | Train-Accuracy=  0.89645\n",
      "\tValidation-Accuracy=  0.8478\n",
      "Epoch23:  | Epoch Time:  0 m 51 s | Epoch Timestamp:  2023-04-13 07:14:42.030890\n",
      "\tLoss=  0.307418936419487 | Train-Accuracy=  0.901075\n",
      "\tValidation-Accuracy=  0.8265\n",
      "Epoch24:  | Epoch Time:  0 m 51 s | Epoch Timestamp:  2023-04-13 07:15:33.705100\n",
      "\tLoss=  0.29763761985301973 | Train-Accuracy=  0.9056\n",
      "\tValidation-Accuracy=  0.8423\n",
      "Epoch25:  | Epoch Time:  0 m 51 s | Epoch Timestamp:  2023-04-13 07:16:25.094205\n",
      "\tLoss=  0.28665308648347854 | Train-Accuracy=  0.9097625\n",
      "\tValidation-Accuracy=  0.8502\n",
      "Epoch26:  | Epoch Time:  0 m 51 s | Epoch Timestamp:  2023-04-13 07:17:16.659286\n",
      "\tLoss=  0.2736820978164673 | Train-Accuracy=  0.913925\n",
      "\tValidation-Accuracy=  0.8494\n",
      "Epoch27:  | Epoch Time:  0 m 51 s | Epoch Timestamp:  2023-04-13 07:18:08.047330\n",
      "\tLoss=  0.2660219972372055 | Train-Accuracy=  0.915975\n",
      "\tValidation-Accuracy=  0.8517\n",
      "Epoch28:  | Epoch Time:  0 m 51 s | Epoch Timestamp:  2023-04-13 07:18:59.595468\n",
      "\tLoss=  0.25933858017921446 | Train-Accuracy=  0.91865\n",
      "\tValidation-Accuracy=  0.8511\n",
      "Epoch29:  | Epoch Time:  0 m 51 s | Epoch Timestamp:  2023-04-13 07:19:50.998154\n",
      "\tLoss=  0.2479248687505722 | Train-Accuracy=  0.9228\n",
      "\tValidation-Accuracy=  0.8482\n",
      "Epoch30:  | Epoch Time:  0 m 51 s | Epoch Timestamp:  2023-04-13 07:20:42.365132\n",
      "\tLoss=  0.24251502939462663 | Train-Accuracy=  0.9233\n",
      "\tValidation-Accuracy=  0.8557\n",
      "Epoch31:  | Epoch Time:  0 m 51 s | Epoch Timestamp:  2023-04-13 07:21:33.726921\n",
      "\tLoss=  0.2376943541407585 | Train-Accuracy=  0.92625\n",
      "\tValidation-Accuracy=  0.8502\n",
      "Epoch32:  | Epoch Time:  0 m 51 s | Epoch Timestamp:  2023-04-13 07:22:25.153771\n",
      "\tLoss=  0.23224232433438302 | Train-Accuracy=  0.9273125\n",
      "\tValidation-Accuracy=  0.8592\n",
      "Epoch33:  | Epoch Time:  0 m 51 s | Epoch Timestamp:  2023-04-13 07:23:16.646182\n",
      "\tLoss=  0.2245145581126213 | Train-Accuracy=  0.9286875\n",
      "\tValidation-Accuracy=  0.8586\n",
      "Epoch34:  | Epoch Time:  0 m 51 s | Epoch Timestamp:  2023-04-13 07:24:08.129197\n",
      "\tLoss=  0.21952105513811113 | Train-Accuracy=  0.9306\n",
      "\tValidation-Accuracy=  0.8587\n",
      "Epoch35:  | Epoch Time:  0 m 51 s | Epoch Timestamp:  2023-04-13 07:24:59.664232\n",
      "\tLoss=  0.2146412289083004 | Train-Accuracy=  0.934025\n",
      "\tValidation-Accuracy=  0.8603\n",
      "Epoch36:  | Epoch Time:  0 m 51 s | Epoch Timestamp:  2023-04-13 07:25:51.063885\n",
      "\tLoss=  0.20572550510168075 | Train-Accuracy=  0.935525\n",
      "\tValidation-Accuracy=  0.865\n",
      "Epoch37:  | Epoch Time:  0 m 51 s | Epoch Timestamp:  2023-04-13 07:26:42.682100\n",
      "\tLoss=  0.20200509037971495 | Train-Accuracy=  0.93605\n",
      "\tValidation-Accuracy=  0.8657\n",
      "Epoch38:  | Epoch Time:  0 m 51 s | Epoch Timestamp:  2023-04-13 07:27:34.244551\n",
      "\tLoss=  0.19599664435386657 | Train-Accuracy=  0.9383375\n",
      "\tValidation-Accuracy=  0.8581\n",
      "Epoch39:  | Epoch Time:  0 m 51 s | Epoch Timestamp:  2023-04-13 07:28:25.580630\n",
      "\tLoss=  0.19465048246979713 | Train-Accuracy=  0.9393625\n",
      "\tValidation-Accuracy=  0.8653\n",
      "Epoch40:  | Epoch Time:  0 m 51 s | Epoch Timestamp:  2023-04-13 07:29:16.975724\n",
      "\tLoss=  0.1924129258096218 | Train-Accuracy=  0.9401\n",
      "\tValidation-Accuracy=  0.8653\n",
      "Epoch41:  | Epoch Time:  0 m 51 s | Epoch Timestamp:  2023-04-13 07:30:08.361977\n",
      "\tLoss=  0.18493687937259673 | Train-Accuracy=  0.9415375\n",
      "\tValidation-Accuracy=  0.8641\n",
      "Epoch42:  | Epoch Time:  0 m 51 s | Epoch Timestamp:  2023-04-13 07:31:00.000946\n",
      "\tLoss=  0.18381588003635407 | Train-Accuracy=  0.9437125\n",
      "\tValidation-Accuracy=  0.8635\n",
      "Epoch43:  | Epoch Time:  0 m 51 s | Epoch Timestamp:  2023-04-13 07:31:51.377749\n",
      "\tLoss=  0.1801724019229412 | Train-Accuracy=  0.9437375\n",
      "\tValidation-Accuracy=  0.8591\n",
      "Epoch44:  | Epoch Time:  0 m 51 s | Epoch Timestamp:  2023-04-13 07:32:42.746084\n",
      "\tLoss=  0.17425003004074097 | Train-Accuracy=  0.9451125\n",
      "\tValidation-Accuracy=  0.866\n",
      "Epoch45:  | Epoch Time:  0 m 51 s | Epoch Timestamp:  2023-04-13 07:33:34.194166\n",
      "\tLoss=  0.1667521188378334 | Train-Accuracy=  0.9471375\n",
      "\tValidation-Accuracy=  0.867\n",
      "Epoch46:  | Epoch Time:  0 m 51 s | Epoch Timestamp:  2023-04-13 07:34:25.723773\n",
      "\tLoss=  0.17148226948976517 | Train-Accuracy=  0.94655\n",
      "\tValidation-Accuracy=  0.8686\n",
      "Epoch47:  | Epoch Time:  0 m 51 s | Epoch Timestamp:  2023-04-13 07:35:17.333173\n",
      "\tLoss=  0.1655581206023693 | Train-Accuracy=  0.947775\n",
      "\tValidation-Accuracy=  0.8695\n",
      "Epoch48:  | Epoch Time:  0 m 51 s | Epoch Timestamp:  2023-04-13 07:36:08.674531\n",
      "\tLoss=  0.16169657099545 | Train-Accuracy=  0.9491625\n",
      "\tValidation-Accuracy=  0.8626\n",
      "Epoch49:  | Epoch Time:  0 m 51 s | Epoch Timestamp:  2023-04-13 07:37:00.079894\n",
      "\tLoss=  0.1595691330909729 | Train-Accuracy=  0.950125\n",
      "\tValidation-Accuracy=  0.87\n"
     ]
    },
    {
     "name": "stdout",
     "output_type": "stream",
     "text": [
      "Epoch50:  | Epoch Time:  0 m 51 s | Epoch Timestamp:  2023-04-13 07:37:51.426133\n",
      "\tLoss=  0.1566877237379551 | Train-Accuracy=  0.9512\n",
      "\tValidation-Accuracy=  0.8669\n",
      "Epoch51:  | Epoch Time:  0 m 51 s | Epoch Timestamp:  2023-04-13 07:38:43.025876\n",
      "\tLoss=  0.15627773100733758 | Train-Accuracy=  0.9507\n",
      "\tValidation-Accuracy=  0.8653\n",
      "Epoch52:  | Epoch Time:  0 m 52 s | Epoch Timestamp:  2023-04-13 07:39:35.052977\n",
      "\tLoss=  0.1512328812122345 | Train-Accuracy=  0.9524375\n",
      "\tValidation-Accuracy=  0.8715\n",
      "Epoch53:  | Epoch Time:  0 m 51 s | Epoch Timestamp:  2023-04-13 07:40:26.508735\n",
      "\tLoss=  0.1496945570230484 | Train-Accuracy=  0.9532\n",
      "\tValidation-Accuracy=  0.8664\n",
      "Epoch54:  | Epoch Time:  0 m 51 s | Epoch Timestamp:  2023-04-13 07:41:17.691539\n",
      "\tLoss=  0.1446505817592144 | Train-Accuracy=  0.954\n",
      "\tValidation-Accuracy=  0.8712\n",
      "Epoch55:  | Epoch Time:  0 m 51 s | Epoch Timestamp:  2023-04-13 07:42:08.868625\n",
      "\tLoss=  0.14307480670809747 | Train-Accuracy=  0.95465\n",
      "\tValidation-Accuracy=  0.8711\n",
      "Epoch56:  | Epoch Time:  0 m 51 s | Epoch Timestamp:  2023-04-13 07:43:00.371196\n",
      "\tLoss=  0.140278271651268 | Train-Accuracy=  0.9555625\n",
      "\tValidation-Accuracy=  0.8763\n",
      "Epoch57:  | Epoch Time:  0 m 51 s | Epoch Timestamp:  2023-04-13 07:43:51.740550\n",
      "\tLoss=  0.13734710155427457 | Train-Accuracy=  0.956475\n",
      "\tValidation-Accuracy=  0.8745\n",
      "Epoch58:  | Epoch Time:  0 m 51 s | Epoch Timestamp:  2023-04-13 07:44:42.859853\n",
      "\tLoss=  0.13791672008931638 | Train-Accuracy=  0.9565375\n",
      "\tValidation-Accuracy=  0.8741\n",
      "Epoch59:  | Epoch Time:  0 m 51 s | Epoch Timestamp:  2023-04-13 07:45:34.071054\n",
      "\tLoss=  0.13644165399968625 | Train-Accuracy=  0.9572875\n",
      "\tValidation-Accuracy=  0.871\n",
      "Epoch60:  | Epoch Time:  0 m 51 s | Epoch Timestamp:  2023-04-13 07:46:25.323089\n",
      "\tLoss=  0.1321513311997056 | Train-Accuracy=  0.957825\n",
      "\tValidation-Accuracy=  0.8773\n",
      "Epoch61:  | Epoch Time:  0 m 51 s | Epoch Timestamp:  2023-04-13 07:47:16.667542\n",
      "\tLoss=  0.1286973286360502 | Train-Accuracy=  0.959225\n",
      "\tValidation-Accuracy=  0.8769\n",
      "Epoch62:  | Epoch Time:  0 m 51 s | Epoch Timestamp:  2023-04-13 07:48:07.939102\n",
      "\tLoss=  0.1281306535989046 | Train-Accuracy=  0.9592125\n",
      "\tValidation-Accuracy=  0.8708\n",
      "Epoch63:  | Epoch Time:  0 m 51 s | Epoch Timestamp:  2023-04-13 07:48:59.224134\n",
      "\tLoss=  0.12912896585166456 | Train-Accuracy=  0.959525\n",
      "\tValidation-Accuracy=  0.8742\n",
      "Epoch64:  | Epoch Time:  0 m 51 s | Epoch Timestamp:  2023-04-13 07:49:50.510488\n",
      "\tLoss=  0.1254702156275511 | Train-Accuracy=  0.960375\n",
      "\tValidation-Accuracy=  0.8759\n",
      "Epoch65:  | Epoch Time:  0 m 51 s | Epoch Timestamp:  2023-04-13 07:50:41.752427\n",
      "\tLoss=  0.12233234499394893 | Train-Accuracy=  0.9610375\n",
      "\tValidation-Accuracy=  0.8759\n",
      "Epoch66:  | Epoch Time:  0 m 51 s | Epoch Timestamp:  2023-04-13 07:51:33.199253\n",
      "\tLoss=  0.11970712351799011 | Train-Accuracy=  0.96195\n",
      "\tValidation-Accuracy=  0.8707\n",
      "Epoch67:  | Epoch Time:  0 m 51 s | Epoch Timestamp:  2023-04-13 07:52:24.479704\n",
      "\tLoss=  0.12083278898000717 | Train-Accuracy=  0.961875\n",
      "\tValidation-Accuracy=  0.8752\n",
      "Epoch68:  | Epoch Time:  0 m 51 s | Epoch Timestamp:  2023-04-13 07:53:15.629569\n",
      "\tLoss=  0.11812749842405319 | Train-Accuracy=  0.9627125\n",
      "\tValidation-Accuracy=  0.8745\n",
      "Epoch69:  | Epoch Time:  0 m 51 s | Epoch Timestamp:  2023-04-13 07:54:06.849212\n",
      "\tLoss=  0.11424827889502048 | Train-Accuracy=  0.963375\n",
      "\tValidation-Accuracy=  0.8658\n",
      "Epoch70:  | Epoch Time:  0 m 51 s | Epoch Timestamp:  2023-04-13 07:54:57.994941\n",
      "\tLoss=  0.11564708629846573 | Train-Accuracy=  0.9640375\n",
      "\tValidation-Accuracy=  0.8778\n",
      "Epoch71:  | Epoch Time:  0 m 51 s | Epoch Timestamp:  2023-04-13 07:55:49.492834\n",
      "\tLoss=  0.11388817656636238 | Train-Accuracy=  0.9638875\n",
      "\tValidation-Accuracy=  0.8737\n",
      "Epoch72:  | Epoch Time:  0 m 51 s | Epoch Timestamp:  2023-04-13 07:56:40.673697\n",
      "\tLoss=  0.11210852659642696 | Train-Accuracy=  0.9635875\n",
      "\tValidation-Accuracy=  0.8746\n",
      "Epoch73:  | Epoch Time:  0 m 51 s | Epoch Timestamp:  2023-04-13 07:57:31.792985\n",
      "\tLoss=  0.10850712373256684 | Train-Accuracy=  0.965225\n",
      "\tValidation-Accuracy=  0.8732\n",
      "Epoch74:  | Epoch Time:  0 m 51 s | Epoch Timestamp:  2023-04-13 07:58:22.996195\n",
      "\tLoss=  0.10878588187992573 | Train-Accuracy=  0.9660125\n",
      "\tValidation-Accuracy=  0.8721\n",
      "Epoch75:  | Epoch Time:  0 m 51 s | Epoch Timestamp:  2023-04-13 07:59:14.102535\n",
      "\tLoss=  0.1038931484490633 | Train-Accuracy=  0.9672125\n",
      "\tValidation-Accuracy=  0.8773\n",
      "Epoch76:  | Epoch Time:  0 m 51 s | Epoch Timestamp:  2023-04-13 08:00:05.636304\n",
      "\tLoss=  0.10328066702485085 | Train-Accuracy=  0.96775\n",
      "\tValidation-Accuracy=  0.8781\n",
      "Epoch77:  | Epoch Time:  0 m 51 s | Epoch Timestamp:  2023-04-13 08:00:56.729896\n",
      "\tLoss=  0.10241264939010143 | Train-Accuracy=  0.9675\n",
      "\tValidation-Accuracy=  0.8694\n",
      "Epoch78:  | Epoch Time:  0 m 51 s | Epoch Timestamp:  2023-04-13 08:01:47.922995\n",
      "\tLoss=  0.10289593339264393 | Train-Accuracy=  0.96755\n",
      "\tValidation-Accuracy=  0.8745\n",
      "Epoch79:  | Epoch Time:  0 m 51 s | Epoch Timestamp:  2023-04-13 08:02:39.676501\n",
      "\tLoss=  0.09908936267793178 | Train-Accuracy=  0.9688125\n",
      "\tValidation-Accuracy=  0.8688\n",
      "Epoch80:  | Epoch Time:  0 m 51 s | Epoch Timestamp:  2023-04-13 08:03:31.052676\n",
      "\tLoss=  0.09997669337689877 | Train-Accuracy=  0.9686125\n",
      "\tValidation-Accuracy=  0.8777\n",
      "Epoch81:  | Epoch Time:  0 m 51 s | Epoch Timestamp:  2023-04-13 08:04:22.539200\n",
      "\tLoss=  0.09863222423791886 | Train-Accuracy=  0.968775\n",
      "\tValidation-Accuracy=  0.8757\n",
      "Epoch82:  | Epoch Time:  0 m 51 s | Epoch Timestamp:  2023-04-13 08:05:13.650848\n",
      "\tLoss=  0.09837186745405198 | Train-Accuracy=  0.969425\n",
      "\tValidation-Accuracy=  0.8723\n",
      "Epoch83:  | Epoch Time:  0 m 51 s | Epoch Timestamp:  2023-04-13 08:06:04.778209\n",
      "\tLoss=  0.0952914292305708 | Train-Accuracy=  0.97005\n",
      "\tValidation-Accuracy=  0.8818\n",
      "Epoch84:  | Epoch Time:  0 m 51 s | Epoch Timestamp:  2023-04-13 08:06:55.930691\n",
      "\tLoss=  0.0941904326826334 | Train-Accuracy=  0.9705875\n",
      "\tValidation-Accuracy=  0.8754\n",
      "Epoch85:  | Epoch Time:  0 m 51 s | Epoch Timestamp:  2023-04-13 08:07:47.179044\n",
      "\tLoss=  0.092683060772717 | Train-Accuracy=  0.9703375\n",
      "\tValidation-Accuracy=  0.882\n",
      "Epoch86:  | Epoch Time:  0 m 51 s | Epoch Timestamp:  2023-04-13 08:08:38.554877\n",
      "\tLoss=  0.09265847246348857 | Train-Accuracy=  0.971275\n",
      "\tValidation-Accuracy=  0.8787\n",
      "Epoch87:  | Epoch Time:  0 m 51 s | Epoch Timestamp:  2023-04-13 08:09:29.604853\n",
      "\tLoss=  0.09340055635124445 | Train-Accuracy=  0.9704\n",
      "\tValidation-Accuracy=  0.8763\n",
      "Epoch88:  | Epoch Time:  0 m 51 s | Epoch Timestamp:  2023-04-13 08:10:20.720855\n",
      "\tLoss=  0.08810727133899927 | Train-Accuracy=  0.971825\n",
      "\tValidation-Accuracy=  0.8766\n",
      "Epoch89:  | Epoch Time:  0 m 51 s | Epoch Timestamp:  2023-04-13 08:11:11.884010\n",
      "\tLoss=  0.0900833481118083 | Train-Accuracy=  0.9714375\n",
      "\tValidation-Accuracy=  0.8777\n",
      "Epoch90:  | Epoch Time:  0 m 51 s | Epoch Timestamp:  2023-04-13 08:12:03.083428\n",
      "\tLoss=  0.09238069752007723 | Train-Accuracy=  0.970975\n",
      "\tValidation-Accuracy=  0.8813\n",
      "Epoch91:  | Epoch Time:  0 m 51 s | Epoch Timestamp:  2023-04-13 08:12:54.334028\n",
      "\tLoss=  0.08749067838639021 | Train-Accuracy=  0.97235\n",
      "\tValidation-Accuracy=  0.8786\n",
      "Epoch92:  | Epoch Time:  0 m 51 s | Epoch Timestamp:  2023-04-13 08:13:45.643039\n",
      "\tLoss=  0.08741679304242134 | Train-Accuracy=  0.97255\n",
      "\tValidation-Accuracy=  0.8798\n",
      "Epoch93:  | Epoch Time:  0 m 51 s | Epoch Timestamp:  2023-04-13 08:14:37.030380\n",
      "\tLoss=  0.08554839199781418 | Train-Accuracy=  0.9721125\n",
      "\tValidation-Accuracy=  0.8805\n",
      "Epoch94:  | Epoch Time:  0 m 51 s | Epoch Timestamp:  2023-04-13 08:15:28.206167\n",
      "\tLoss=  0.0858911180704832 | Train-Accuracy=  0.97205\n",
      "\tValidation-Accuracy=  0.883\n",
      "Epoch95:  | Epoch Time:  0 m 51 s | Epoch Timestamp:  2023-04-13 08:16:19.400243\n",
      "\tLoss=  0.08398864519149064 | Train-Accuracy=  0.972925\n",
      "\tValidation-Accuracy=  0.8761\n",
      "Epoch96:  | Epoch Time:  0 m 51 s | Epoch Timestamp:  2023-04-13 08:17:10.639649\n",
      "\tLoss=  0.08196898016929627 | Train-Accuracy=  0.9742125\n",
      "\tValidation-Accuracy=  0.879\n",
      "Epoch97:  | Epoch Time:  0 m 51 s | Epoch Timestamp:  2023-04-13 08:18:01.971703\n",
      "\tLoss=  0.08467729527503252 | Train-Accuracy=  0.97335\n",
      "\tValidation-Accuracy=  0.8854\n",
      "Epoch98:  | Epoch Time:  0 m 51 s | Epoch Timestamp:  2023-04-13 08:18:53.082762\n",
      "\tLoss=  0.07855553291887045 | Train-Accuracy=  0.975125\n",
      "\tValidation-Accuracy=  0.8748\n",
      "Epoch99:  | Epoch Time:  0 m 51 s | Epoch Timestamp:  2023-04-13 08:19:44.085539\n",
      "\tLoss=  0.08070440671443939 | Train-Accuracy=  0.97425\n",
      "\tValidation-Accuracy=  0.876\n"
     ]
    }
   ],
   "source": [
    "# Set number of epoches for training\n",
    "num_epochs = 100\n",
    "\n",
    "# Train\n",
    "result = train_ch3(model, trainloader, valloader, loss, num_epochs, optimizer)"
   ]
  },
  {
   "cell_type": "markdown",
   "metadata": {},
   "source": [
    "## Plotting the loss curve, training accuracy curve and validation accuracy curve"
   ]
  },
  {
   "cell_type": "code",
   "execution_count": 15,
   "metadata": {},
   "outputs": [
    {
     "data": {
      "text/plain": [
       "<matplotlib.legend.Legend at 0x2060b8a0cd0>"
      ]
     },
     "execution_count": 15,
     "metadata": {},
     "output_type": "execute_result"
    },
    {
     "data": {
      "image/png": "[encoded data removed]",
      "text/plain": [
       "<Figure size 640x480 with 1 Axes>"
      ]
     },
     "metadata": {},
     "output_type": "display_data"
    }
   ],
   "source": [
    "epoch_num = list(range(100))\n",
    "loss = result[0]\n",
    "train_acc = result[1]\n",
    "test_acc = result[2]\n",
    "\n",
    "plt.plot(epoch_num, loss, label='Loss') # Training loss\n",
    "plt.plot(epoch_num, train_acc, label='Train accuracy') # Training accuracy\n",
    "plt.plot(epoch_num, test_acc, label='Validation accuracy') # Validation accuracy\n",
    "plt.legend()"
   ]
  },
  {
   "cell_type": "markdown",
   "metadata": {},
   "source": [
    "# 5. Final model accuracy on CIFAR10 test set"
   ]
  },
  {
   "cell_type": "code",
   "execution_count": 16,
   "metadata": {},
   "outputs": [
    {
     "name": "stdout",
     "output_type": "stream",
     "text": [
      "Accuracy on test set is:  0.8704\n"
     ]
    }
   ],
   "source": [
    "test_acc = evaluate_accuracy(model, testloader)\n",
    "print('Accuracy on test set is: ', test_acc)"
   ]
  },
  {
   "cell_type": "code",
   "execution_count": null,
   "metadata": {},
   "outputs": [],
   "source": []
  }
 ],
 "metadata": {
  "accelerator": "GPU",
  "colab": {
   "provenance": []
  },
  "gpuClass": "standard",
  "kernelspec": {
   "display_name": "tf-gpu",
   "language": "python",
   "name": "tf-gpu"
  },
  "language_info": {
   "codemirror_mode": {
    "name": "ipython",
    "version": 3
   },
   "file_extension": ".py",
   "mimetype": "text/x-python",
   "name": "python",
   "nbconvert_exporter": "python",
   "pygments_lexer": "ipython3",
   "version": "3.9.16"
  }
 },
 "nbformat": 4,
 "nbformat_minor": 1
}
